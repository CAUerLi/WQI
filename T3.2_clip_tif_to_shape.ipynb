{
 "cells": [
  {
   "cell_type": "markdown",
   "metadata": {},
   "source": [
    "## load packages"
   ]
  },
  {
   "cell_type": "code",
   "execution_count": 1,
   "metadata": {},
   "outputs": [],
   "source": [
    "import rasterio\n",
    "from rasterio.features import shapes\n",
    "import geopandas as gpd\n",
    "from shapely.geometry import shape\n",
    "import os"
   ]
  },
  {
   "cell_type": "markdown",
   "metadata": {},
   "source": [
    "## function of clip and convert  \n",
    "_从 TIFF 文件中提取非 NoData 区域，并将其保存为 SHP 文件。_\n",
    "### vaiaibles:\n",
    "- tiff_file_path: TIFF 文件的路径。\n",
    "- output_directory: SHP 文件集保存的目录。\n",
    "- output_filename: Shape files names"
   ]
  },
  {
   "cell_type": "code",
   "execution_count": 6,
   "metadata": {},
   "outputs": [],
   "source": [
    "def process_tiff_to_shp(tiff_file_path, output_directory, output_filename):\n",
    "    # 使用 Rasterio 读取 TIFF 文件\n",
    "    with rasterio.open(tiff_file_path) as src:\n",
    "        data = src.read(1)  # 读取第一个波段\n",
    "        nodata_value = src.nodata  # NoData 值\n",
    "\n",
    "        # 创建掩膜，排除 NoData 值的区域\n",
    "        mask = data != nodata_value\n",
    "\n",
    "        # 提取非 NoData 区域的几何形状\n",
    "        # 使用 shapes 函数提取非 NoData 区域的几何形状\n",
    "        results = ({'properties': {'raster_val': v}, 'geometry': s}\n",
    "                   for i, (s, v) in enumerate(shapes(data, mask=mask, transform=src.transform)))\n",
    "\n",
    "    # 创建 GeoDataFrame\n",
    "    geoms = [shape(geom['geometry']) for geom in results]\n",
    "    gdf = gpd.GeoDataFrame({\"geometry\": geoms})\n",
    "\n",
    "    # 设置坐标参考系统为 WGS 84 (EPSG:4326)\n",
    "    gdf.crs = \"EPSG:4326\"\n",
    "\n",
    "    # # \n",
    "    # gdf.to_file(filename=output_directory, driver='ESRI Shapefile')\n",
    "    # 保存 SHP 文件集 \n",
    "    # 这里虽然是加的'.shp',但是Geopandas的.to_file会生成所有的文件类型\n",
    "    output_shp_path = os.path.join(output_directory, output_filename + \".shp\")\n",
    "\n",
    "    # 保存 SHP 文件集\n",
    "    gdf.to_file(filename=output_shp_path, driver='ESRI Shapefile')"
   ]
  },
  {
   "cell_type": "markdown",
   "metadata": {},
   "source": [
    "## output main function"
   ]
  },
  {
   "cell_type": "code",
   "execution_count": 7,
   "metadata": {},
   "outputs": [
    {
     "name": "stdout",
     "output_type": "stream",
     "text": [
      "['desired_output_name', 'desired_output_name.cpg', 'desired_output_name.dbf', 'desired_output_name.prj', 'desired_output_name.shp', 'desired_output_name.shx', 'Shape.cpg', 'Shape.dbf', 'Shape.prj', 'Shape.shp', 'Shape.shx']\n"
     ]
    }
   ],
   "source": [
    "# 定义文件路径\n",
    "tiff_file_path = 'F:/WQI20231129/WQI/chunknum_11_YellowRiver15arcmin.tif'  # 替换为您的 TIFF 文件路径\n",
    "output_directory = 'F:/WQI20231129/Shape'  # 指定输出目录\n",
    "output_filename = 'desired_output_name'  # 指定输出文件名\n",
    "\n",
    "# 调用函数处理 TIFF 文件并生成 SHP 文件\n",
    "process_tiff_to_shp(tiff_file_path, output_directory, output_filename)\n",
    "\n",
    "# 确认生成的文件\n",
    "shp_files = os.listdir(output_directory)\n",
    "print(shp_files)"
   ]
  }
 ],
 "metadata": {
  "kernelspec": {
   "display_name": "WQI",
   "language": "python",
   "name": "python3"
  },
  "language_info": {
   "codemirror_mode": {
    "name": "ipython",
    "version": 3
   },
   "file_extension": ".py",
   "mimetype": "text/x-python",
   "name": "python",
   "nbconvert_exporter": "python",
   "pygments_lexer": "ipython3",
   "version": "3.8.18"
  }
 },
 "nbformat": 4,
 "nbformat_minor": 2
}
